{
  "cells": [
    {
      "cell_type": "markdown",
      "metadata": {
        "id": "view-in-github",
        "colab_type": "text"
      },
      "source": [
        "<a href=\"https://colab.research.google.com/github/vikashbabukk/Exploratory-Data-Analysis-in-Netflix-dataset/blob/main/NetflixCaseStudy_Vikash.ipynb\" target=\"_parent\"><img src=\"https://colab.research.google.com/assets/colab-badge.svg\" alt=\"Open In Colab\"/></a>"
      ]
    },
    {
      "cell_type": "markdown",
      "id": "a7179b1e",
      "metadata": {
        "id": "a7179b1e"
      },
      "source": [
        "# Business Case: Netflix - Data Exploration and Visualisation\n",
        "    \n",
        "    "
      ]
    },
    {
      "cell_type": "markdown",
      "id": "af09a9ce",
      "metadata": {
        "id": "af09a9ce"
      },
      "source": [
        "# Problem Statement:\n",
        "To perform EDA and  derive  actionable insights from the given Netflix datset assuming the given these TVShows / Movies worked well for Netflix."
      ]
    },
    {
      "cell_type": "code",
      "execution_count": null,
      "id": "047e6886",
      "metadata": {
        "id": "047e6886",
        "outputId": "96d1ed67-a212-4579-caea-fcf21df7b507"
      },
      "outputs": [
        {
          "data": {
            "text/html": [
              "<div>\n",
              "<style scoped>\n",
              "    .dataframe tbody tr th:only-of-type {\n",
              "        vertical-align: middle;\n",
              "    }\n",
              "\n",
              "    .dataframe tbody tr th {\n",
              "        vertical-align: top;\n",
              "    }\n",
              "\n",
              "    .dataframe thead th {\n",
              "        text-align: right;\n",
              "    }\n",
              "</style>\n",
              "<table border=\"1\" class=\"dataframe\">\n",
              "  <thead>\n",
              "    <tr style=\"text-align: right;\">\n",
              "      <th></th>\n",
              "      <th>show_id</th>\n",
              "      <th>type</th>\n",
              "      <th>title</th>\n",
              "      <th>director</th>\n",
              "      <th>cast</th>\n",
              "      <th>country</th>\n",
              "      <th>date_added</th>\n",
              "      <th>release_year</th>\n",
              "      <th>rating</th>\n",
              "      <th>duration</th>\n",
              "      <th>listed_in</th>\n",
              "      <th>description</th>\n",
              "    </tr>\n",
              "  </thead>\n",
              "  <tbody>\n",
              "    <tr>\n",
              "      <th>0</th>\n",
              "      <td>s1</td>\n",
              "      <td>Movie</td>\n",
              "      <td>Dick Johnson Is Dead</td>\n",
              "      <td>Kirsten Johnson</td>\n",
              "      <td>NaN</td>\n",
              "      <td>United States</td>\n",
              "      <td>September 25, 2021</td>\n",
              "      <td>2020</td>\n",
              "      <td>PG-13</td>\n",
              "      <td>90 min</td>\n",
              "      <td>Documentaries</td>\n",
              "      <td>As her father nears the end of his life, filmm...</td>\n",
              "    </tr>\n",
              "    <tr>\n",
              "      <th>1</th>\n",
              "      <td>s2</td>\n",
              "      <td>TV Show</td>\n",
              "      <td>Blood &amp; Water</td>\n",
              "      <td>NaN</td>\n",
              "      <td>Ama Qamata, Khosi Ngema, Gail Mabalane, Thaban...</td>\n",
              "      <td>South Africa</td>\n",
              "      <td>September 24, 2021</td>\n",
              "      <td>2021</td>\n",
              "      <td>TV-MA</td>\n",
              "      <td>2 Seasons</td>\n",
              "      <td>International TV Shows, TV Dramas, TV Mysteries</td>\n",
              "      <td>After crossing paths at a party, a Cape Town t...</td>\n",
              "    </tr>\n",
              "    <tr>\n",
              "      <th>2</th>\n",
              "      <td>s3</td>\n",
              "      <td>TV Show</td>\n",
              "      <td>Ganglands</td>\n",
              "      <td>Julien Leclercq</td>\n",
              "      <td>Sami Bouajila, Tracy Gotoas, Samuel Jouy, Nabi...</td>\n",
              "      <td>NaN</td>\n",
              "      <td>September 24, 2021</td>\n",
              "      <td>2021</td>\n",
              "      <td>TV-MA</td>\n",
              "      <td>1 Season</td>\n",
              "      <td>Crime TV Shows, International TV Shows, TV Act...</td>\n",
              "      <td>To protect his family from a powerful drug lor...</td>\n",
              "    </tr>\n",
              "    <tr>\n",
              "      <th>3</th>\n",
              "      <td>s4</td>\n",
              "      <td>TV Show</td>\n",
              "      <td>Jailbirds New Orleans</td>\n",
              "      <td>NaN</td>\n",
              "      <td>NaN</td>\n",
              "      <td>NaN</td>\n",
              "      <td>September 24, 2021</td>\n",
              "      <td>2021</td>\n",
              "      <td>TV-MA</td>\n",
              "      <td>1 Season</td>\n",
              "      <td>Docuseries, Reality TV</td>\n",
              "      <td>Feuds, flirtations and toilet talk go down amo...</td>\n",
              "    </tr>\n",
              "    <tr>\n",
              "      <th>4</th>\n",
              "      <td>s5</td>\n",
              "      <td>TV Show</td>\n",
              "      <td>Kota Factory</td>\n",
              "      <td>NaN</td>\n",
              "      <td>Mayur More, Jitendra Kumar, Ranjan Raj, Alam K...</td>\n",
              "      <td>India</td>\n",
              "      <td>September 24, 2021</td>\n",
              "      <td>2021</td>\n",
              "      <td>TV-MA</td>\n",
              "      <td>2 Seasons</td>\n",
              "      <td>International TV Shows, Romantic TV Shows, TV ...</td>\n",
              "      <td>In a city of coaching centers known to train I...</td>\n",
              "    </tr>\n",
              "  </tbody>\n",
              "</table>\n",
              "</div>"
            ],
            "text/plain": [
              "  show_id     type                  title         director  \\\n",
              "0      s1    Movie   Dick Johnson Is Dead  Kirsten Johnson   \n",
              "1      s2  TV Show          Blood & Water              NaN   \n",
              "2      s3  TV Show              Ganglands  Julien Leclercq   \n",
              "3      s4  TV Show  Jailbirds New Orleans              NaN   \n",
              "4      s5  TV Show           Kota Factory              NaN   \n",
              "\n",
              "                                                cast        country  \\\n",
              "0                                                NaN  United States   \n",
              "1  Ama Qamata, Khosi Ngema, Gail Mabalane, Thaban...   South Africa   \n",
              "2  Sami Bouajila, Tracy Gotoas, Samuel Jouy, Nabi...            NaN   \n",
              "3                                                NaN            NaN   \n",
              "4  Mayur More, Jitendra Kumar, Ranjan Raj, Alam K...          India   \n",
              "\n",
              "           date_added  release_year rating   duration  \\\n",
              "0  September 25, 2021          2020  PG-13     90 min   \n",
              "1  September 24, 2021          2021  TV-MA  2 Seasons   \n",
              "2  September 24, 2021          2021  TV-MA   1 Season   \n",
              "3  September 24, 2021          2021  TV-MA   1 Season   \n",
              "4  September 24, 2021          2021  TV-MA  2 Seasons   \n",
              "\n",
              "                                           listed_in  \\\n",
              "0                                      Documentaries   \n",
              "1    International TV Shows, TV Dramas, TV Mysteries   \n",
              "2  Crime TV Shows, International TV Shows, TV Act...   \n",
              "3                             Docuseries, Reality TV   \n",
              "4  International TV Shows, Romantic TV Shows, TV ...   \n",
              "\n",
              "                                         description  \n",
              "0  As her father nears the end of his life, filmm...  \n",
              "1  After crossing paths at a party, a Cape Town t...  \n",
              "2  To protect his family from a powerful drug lor...  \n",
              "3  Feuds, flirtations and toilet talk go down amo...  \n",
              "4  In a city of coaching centers known to train I...  "
            ]
          },
          "execution_count": 284,
          "metadata": {},
          "output_type": "execute_result"
        }
      ],
      "source": [
        "  #let's load the given data\n",
        "\n",
        "import pandas as pd\n",
        "import numpy as np\n",
        "\n",
        "\n",
        "#reading and storing the pandas datframe 'data'\n",
        "data= pd.read_csv(\"https://d2beiqkhq929f0.cloudfront.net/public_assets/assets/000/000/940/original/netflix.csv\")\n",
        "\n",
        "\n",
        "#checking the data format\n",
        "data.head(5)\n"
      ]
    },
    {
      "cell_type": "raw",
      "id": "105a3278",
      "metadata": {
        "id": "105a3278"
      },
      "source": [
        "Points to Note from above output\n",
        "\n",
        "country,cast,listed coulmn has multiple value seperated by comma\n",
        "\n",
        "date_addded is not a datetime object\n",
        "\n",
        "Duration column is not measure in same unit"
      ]
    },
    {
      "cell_type": "markdown",
      "id": "23cb799e",
      "metadata": {
        "id": "23cb799e"
      },
      "source": [
        "Analysing basic metrics"
      ]
    },
    {
      "cell_type": "code",
      "execution_count": null,
      "id": "f283baff",
      "metadata": {
        "id": "f283baff",
        "outputId": "9ce76096-4892-4662-cf3a-6f3fa294b82d"
      },
      "outputs": [
        {
          "name": "stdout",
          "output_type": "stream",
          "text": [
            "<class 'pandas.core.frame.DataFrame'>\n",
            "RangeIndex: 8807 entries, 0 to 8806\n",
            "Data columns (total 12 columns):\n",
            " #   Column        Non-Null Count  Dtype \n",
            "---  ------        --------------  ----- \n",
            " 0   show_id       8807 non-null   object\n",
            " 1   type          8807 non-null   object\n",
            " 2   title         8807 non-null   object\n",
            " 3   director      6173 non-null   object\n",
            " 4   cast          7982 non-null   object\n",
            " 5   country       7976 non-null   object\n",
            " 6   date_added    8797 non-null   object\n",
            " 7   release_year  8807 non-null   int64 \n",
            " 8   rating        8803 non-null   object\n",
            " 9   duration      8804 non-null   object\n",
            " 10  listed_in     8807 non-null   object\n",
            " 11  description   8807 non-null   object\n",
            "dtypes: int64(1), object(11)\n",
            "memory usage: 825.8+ KB\n"
          ]
        }
      ],
      "source": [
        "data.info()"
      ]
    },
    {
      "cell_type": "raw",
      "id": "5d29d78e",
      "metadata": {
        "id": "5d29d78e"
      },
      "source": [
        "From this output, we can see that the DataFrame has 8807 rows and 12 columns[shape of the data].\n",
        "\n",
        "Most of the columns have non-null values, but some columns, such as 'director', 'cast', 'country', 'date_added', 'rating', and 'duration', have missing values.\n",
        "\n",
        "The data types of the columns are either object or int64."
      ]
    },
    {
      "cell_type": "code",
      "execution_count": null,
      "id": "7174a5d2",
      "metadata": {
        "id": "7174a5d2",
        "outputId": "b947007b-b068-4a1b-fdf8-1d83fe48aaf0"
      },
      "outputs": [
        {
          "data": {
            "text/html": [
              "<div>\n",
              "<style scoped>\n",
              "    .dataframe tbody tr th:only-of-type {\n",
              "        vertical-align: middle;\n",
              "    }\n",
              "\n",
              "    .dataframe tbody tr th {\n",
              "        vertical-align: top;\n",
              "    }\n",
              "\n",
              "    .dataframe thead th {\n",
              "        text-align: right;\n",
              "    }\n",
              "</style>\n",
              "<table border=\"1\" class=\"dataframe\">\n",
              "  <thead>\n",
              "    <tr style=\"text-align: right;\">\n",
              "      <th></th>\n",
              "      <th>show_id</th>\n",
              "      <th>type</th>\n",
              "      <th>title</th>\n",
              "      <th>director</th>\n",
              "      <th>cast</th>\n",
              "      <th>country</th>\n",
              "      <th>date_added</th>\n",
              "      <th>release_year</th>\n",
              "      <th>rating</th>\n",
              "      <th>duration</th>\n",
              "      <th>listed_in</th>\n",
              "      <th>description</th>\n",
              "    </tr>\n",
              "  </thead>\n",
              "  <tbody>\n",
              "    <tr>\n",
              "      <th>count</th>\n",
              "      <td>8807</td>\n",
              "      <td>8807</td>\n",
              "      <td>8807</td>\n",
              "      <td>6173</td>\n",
              "      <td>7982</td>\n",
              "      <td>7976</td>\n",
              "      <td>8797</td>\n",
              "      <td>8807.000000</td>\n",
              "      <td>8803</td>\n",
              "      <td>8804</td>\n",
              "      <td>8807</td>\n",
              "      <td>8807</td>\n",
              "    </tr>\n",
              "    <tr>\n",
              "      <th>unique</th>\n",
              "      <td>8807</td>\n",
              "      <td>2</td>\n",
              "      <td>8807</td>\n",
              "      <td>4528</td>\n",
              "      <td>7692</td>\n",
              "      <td>748</td>\n",
              "      <td>1767</td>\n",
              "      <td>NaN</td>\n",
              "      <td>17</td>\n",
              "      <td>220</td>\n",
              "      <td>514</td>\n",
              "      <td>8775</td>\n",
              "    </tr>\n",
              "    <tr>\n",
              "      <th>top</th>\n",
              "      <td>s1</td>\n",
              "      <td>Movie</td>\n",
              "      <td>Dick Johnson Is Dead</td>\n",
              "      <td>Rajiv Chilaka</td>\n",
              "      <td>David Attenborough</td>\n",
              "      <td>United States</td>\n",
              "      <td>January 1, 2020</td>\n",
              "      <td>NaN</td>\n",
              "      <td>TV-MA</td>\n",
              "      <td>1 Season</td>\n",
              "      <td>Dramas, International Movies</td>\n",
              "      <td>Paranormal activity at a lush, abandoned prope...</td>\n",
              "    </tr>\n",
              "    <tr>\n",
              "      <th>freq</th>\n",
              "      <td>1</td>\n",
              "      <td>6131</td>\n",
              "      <td>1</td>\n",
              "      <td>19</td>\n",
              "      <td>19</td>\n",
              "      <td>2818</td>\n",
              "      <td>109</td>\n",
              "      <td>NaN</td>\n",
              "      <td>3207</td>\n",
              "      <td>1793</td>\n",
              "      <td>362</td>\n",
              "      <td>4</td>\n",
              "    </tr>\n",
              "    <tr>\n",
              "      <th>mean</th>\n",
              "      <td>NaN</td>\n",
              "      <td>NaN</td>\n",
              "      <td>NaN</td>\n",
              "      <td>NaN</td>\n",
              "      <td>NaN</td>\n",
              "      <td>NaN</td>\n",
              "      <td>NaN</td>\n",
              "      <td>2014.180198</td>\n",
              "      <td>NaN</td>\n",
              "      <td>NaN</td>\n",
              "      <td>NaN</td>\n",
              "      <td>NaN</td>\n",
              "    </tr>\n",
              "    <tr>\n",
              "      <th>std</th>\n",
              "      <td>NaN</td>\n",
              "      <td>NaN</td>\n",
              "      <td>NaN</td>\n",
              "      <td>NaN</td>\n",
              "      <td>NaN</td>\n",
              "      <td>NaN</td>\n",
              "      <td>NaN</td>\n",
              "      <td>8.819312</td>\n",
              "      <td>NaN</td>\n",
              "      <td>NaN</td>\n",
              "      <td>NaN</td>\n",
              "      <td>NaN</td>\n",
              "    </tr>\n",
              "    <tr>\n",
              "      <th>min</th>\n",
              "      <td>NaN</td>\n",
              "      <td>NaN</td>\n",
              "      <td>NaN</td>\n",
              "      <td>NaN</td>\n",
              "      <td>NaN</td>\n",
              "      <td>NaN</td>\n",
              "      <td>NaN</td>\n",
              "      <td>1925.000000</td>\n",
              "      <td>NaN</td>\n",
              "      <td>NaN</td>\n",
              "      <td>NaN</td>\n",
              "      <td>NaN</td>\n",
              "    </tr>\n",
              "    <tr>\n",
              "      <th>25%</th>\n",
              "      <td>NaN</td>\n",
              "      <td>NaN</td>\n",
              "      <td>NaN</td>\n",
              "      <td>NaN</td>\n",
              "      <td>NaN</td>\n",
              "      <td>NaN</td>\n",
              "      <td>NaN</td>\n",
              "      <td>2013.000000</td>\n",
              "      <td>NaN</td>\n",
              "      <td>NaN</td>\n",
              "      <td>NaN</td>\n",
              "      <td>NaN</td>\n",
              "    </tr>\n",
              "    <tr>\n",
              "      <th>50%</th>\n",
              "      <td>NaN</td>\n",
              "      <td>NaN</td>\n",
              "      <td>NaN</td>\n",
              "      <td>NaN</td>\n",
              "      <td>NaN</td>\n",
              "      <td>NaN</td>\n",
              "      <td>NaN</td>\n",
              "      <td>2017.000000</td>\n",
              "      <td>NaN</td>\n",
              "      <td>NaN</td>\n",
              "      <td>NaN</td>\n",
              "      <td>NaN</td>\n",
              "    </tr>\n",
              "    <tr>\n",
              "      <th>75%</th>\n",
              "      <td>NaN</td>\n",
              "      <td>NaN</td>\n",
              "      <td>NaN</td>\n",
              "      <td>NaN</td>\n",
              "      <td>NaN</td>\n",
              "      <td>NaN</td>\n",
              "      <td>NaN</td>\n",
              "      <td>2019.000000</td>\n",
              "      <td>NaN</td>\n",
              "      <td>NaN</td>\n",
              "      <td>NaN</td>\n",
              "      <td>NaN</td>\n",
              "    </tr>\n",
              "    <tr>\n",
              "      <th>max</th>\n",
              "      <td>NaN</td>\n",
              "      <td>NaN</td>\n",
              "      <td>NaN</td>\n",
              "      <td>NaN</td>\n",
              "      <td>NaN</td>\n",
              "      <td>NaN</td>\n",
              "      <td>NaN</td>\n",
              "      <td>2021.000000</td>\n",
              "      <td>NaN</td>\n",
              "      <td>NaN</td>\n",
              "      <td>NaN</td>\n",
              "      <td>NaN</td>\n",
              "    </tr>\n",
              "  </tbody>\n",
              "</table>\n",
              "</div>"
            ],
            "text/plain": [
              "       show_id   type                 title       director  \\\n",
              "count     8807   8807                  8807           6173   \n",
              "unique    8807      2                  8807           4528   \n",
              "top         s1  Movie  Dick Johnson Is Dead  Rajiv Chilaka   \n",
              "freq         1   6131                     1             19   \n",
              "mean       NaN    NaN                   NaN            NaN   \n",
              "std        NaN    NaN                   NaN            NaN   \n",
              "min        NaN    NaN                   NaN            NaN   \n",
              "25%        NaN    NaN                   NaN            NaN   \n",
              "50%        NaN    NaN                   NaN            NaN   \n",
              "75%        NaN    NaN                   NaN            NaN   \n",
              "max        NaN    NaN                   NaN            NaN   \n",
              "\n",
              "                      cast        country       date_added  release_year  \\\n",
              "count                 7982           7976             8797   8807.000000   \n",
              "unique                7692            748             1767           NaN   \n",
              "top     David Attenborough  United States  January 1, 2020           NaN   \n",
              "freq                    19           2818              109           NaN   \n",
              "mean                   NaN            NaN              NaN   2014.180198   \n",
              "std                    NaN            NaN              NaN      8.819312   \n",
              "min                    NaN            NaN              NaN   1925.000000   \n",
              "25%                    NaN            NaN              NaN   2013.000000   \n",
              "50%                    NaN            NaN              NaN   2017.000000   \n",
              "75%                    NaN            NaN              NaN   2019.000000   \n",
              "max                    NaN            NaN              NaN   2021.000000   \n",
              "\n",
              "       rating  duration                     listed_in  \\\n",
              "count    8803      8804                          8807   \n",
              "unique     17       220                           514   \n",
              "top     TV-MA  1 Season  Dramas, International Movies   \n",
              "freq     3207      1793                           362   \n",
              "mean      NaN       NaN                           NaN   \n",
              "std       NaN       NaN                           NaN   \n",
              "min       NaN       NaN                           NaN   \n",
              "25%       NaN       NaN                           NaN   \n",
              "50%       NaN       NaN                           NaN   \n",
              "75%       NaN       NaN                           NaN   \n",
              "max       NaN       NaN                           NaN   \n",
              "\n",
              "                                              description  \n",
              "count                                                8807  \n",
              "unique                                               8775  \n",
              "top     Paranormal activity at a lush, abandoned prope...  \n",
              "freq                                                    4  \n",
              "mean                                                  NaN  \n",
              "std                                                   NaN  \n",
              "min                                                   NaN  \n",
              "25%                                                   NaN  \n",
              "50%                                                   NaN  \n",
              "75%                                                   NaN  \n",
              "max                                                   NaN  "
            ]
          },
          "execution_count": 13,
          "metadata": {},
          "output_type": "execute_result"
        }
      ],
      "source": [
        "data.describe(include='all')"
      ]
    },
    {
      "cell_type": "markdown",
      "id": "91c493ae",
      "metadata": {
        "id": "91c493ae"
      },
      "source": [
        "## From this output , we can see summary statistics of data\n",
        "\n",
        "*   there are 4528 unique directors:\\\n",
        "*   50 % percentage of the movies / TV shoes were relesed between 2013 and 2019\n",
        "*  Movies is the most common type with 6131 entries\n",
        "*   United states is the most popular country\n",
        "*   TV-MA is the Popular rating\n",
        "*   This dataset contains movies relesed from 1925 to 2021\n",
        "\n",
        "\n",
        "\n"
      ]
    },
    {
      "cell_type": "markdown",
      "id": "bc3d9750",
      "metadata": {
        "id": "bc3d9750"
      },
      "source": [
        "### Non-Graphical Analysis"
      ]
    },
    {
      "cell_type": "code",
      "execution_count": null,
      "id": "f6a846f4",
      "metadata": {
        "id": "f6a846f4"
      },
      "outputs": [],
      "source": [
        "#Let's split movies and Tv Shows\n",
        "\n",
        "#movies dataframe has only Movies data\n",
        "movies = data.loc[data['type']=='Movie']\n",
        "movies.reset_index(drop = True , inplace =True)\n",
        "\n",
        "\n",
        "#TVShows dataframe has only TVShows data\n",
        "TVShows = data.loc[data['type']=='TV Show']\n",
        "TVShows.reset_index(drop = True , inplace =True)\n",
        "\n",
        "\n"
      ]
    },
    {
      "cell_type": "code",
      "execution_count": null,
      "id": "1197e687",
      "metadata": {
        "id": "1197e687",
        "outputId": "a28770b2-bfa7-4d86-b16a-4ac84f4b449a"
      },
      "outputs": [
        {
          "data": {
            "text/html": [
              "<div>\n",
              "<style scoped>\n",
              "    .dataframe tbody tr th:only-of-type {\n",
              "        vertical-align: middle;\n",
              "    }\n",
              "\n",
              "    .dataframe tbody tr th {\n",
              "        vertical-align: top;\n",
              "    }\n",
              "\n",
              "    .dataframe thead th {\n",
              "        text-align: right;\n",
              "    }\n",
              "</style>\n",
              "<table border=\"1\" class=\"dataframe\">\n",
              "  <thead>\n",
              "    <tr style=\"text-align: right;\">\n",
              "      <th></th>\n",
              "      <th>show_id</th>\n",
              "      <th>type</th>\n",
              "      <th>title</th>\n",
              "      <th>director</th>\n",
              "      <th>cast</th>\n",
              "      <th>country</th>\n",
              "      <th>date_added</th>\n",
              "      <th>release_year</th>\n",
              "      <th>rating</th>\n",
              "      <th>duration</th>\n",
              "      <th>listed_in</th>\n",
              "      <th>description</th>\n",
              "    </tr>\n",
              "  </thead>\n",
              "  <tbody>\n",
              "    <tr>\n",
              "      <th>0</th>\n",
              "      <td>s1</td>\n",
              "      <td>Movie</td>\n",
              "      <td>Dick Johnson Is Dead</td>\n",
              "      <td>Kirsten Johnson</td>\n",
              "      <td>NaN</td>\n",
              "      <td>United States</td>\n",
              "      <td>September 25, 2021</td>\n",
              "      <td>2020</td>\n",
              "      <td>PG-13</td>\n",
              "      <td>90 min</td>\n",
              "      <td>Documentaries</td>\n",
              "      <td>As her father nears the end of his life, filmm...</td>\n",
              "    </tr>\n",
              "    <tr>\n",
              "      <th>1</th>\n",
              "      <td>s7</td>\n",
              "      <td>Movie</td>\n",
              "      <td>My Little Pony: A New Generation</td>\n",
              "      <td>Robert Cullen, José Luis Ucha</td>\n",
              "      <td>Vanessa Hudgens, Kimiko Glenn, James Marsden, ...</td>\n",
              "      <td>NaN</td>\n",
              "      <td>September 24, 2021</td>\n",
              "      <td>2021</td>\n",
              "      <td>PG</td>\n",
              "      <td>91 min</td>\n",
              "      <td>Children &amp; Family Movies</td>\n",
              "      <td>Equestria's divided. But a bright-eyed hero be...</td>\n",
              "    </tr>\n",
              "  </tbody>\n",
              "</table>\n",
              "</div>"
            ],
            "text/plain": [
              "  show_id   type                             title  \\\n",
              "0      s1  Movie              Dick Johnson Is Dead   \n",
              "1      s7  Movie  My Little Pony: A New Generation   \n",
              "\n",
              "                        director  \\\n",
              "0                Kirsten Johnson   \n",
              "1  Robert Cullen, José Luis Ucha   \n",
              "\n",
              "                                                cast        country  \\\n",
              "0                                                NaN  United States   \n",
              "1  Vanessa Hudgens, Kimiko Glenn, James Marsden, ...            NaN   \n",
              "\n",
              "           date_added  release_year rating duration                 listed_in  \\\n",
              "0  September 25, 2021          2020  PG-13   90 min             Documentaries   \n",
              "1  September 24, 2021          2021     PG   91 min  Children & Family Movies   \n",
              "\n",
              "                                         description  \n",
              "0  As her father nears the end of his life, filmm...  \n",
              "1  Equestria's divided. But a bright-eyed hero be...  "
            ]
          },
          "execution_count": 34,
          "metadata": {},
          "output_type": "execute_result"
        }
      ],
      "source": [
        "movies.head(2)\n"
      ]
    },
    {
      "cell_type": "code",
      "execution_count": null,
      "id": "869dcc84",
      "metadata": {
        "id": "869dcc84",
        "outputId": "41ec425b-96ee-4a09-b183-e17668cffb0e"
      },
      "outputs": [
        {
          "data": {
            "text/html": [
              "<div>\n",
              "<style scoped>\n",
              "    .dataframe tbody tr th:only-of-type {\n",
              "        vertical-align: middle;\n",
              "    }\n",
              "\n",
              "    .dataframe tbody tr th {\n",
              "        vertical-align: top;\n",
              "    }\n",
              "\n",
              "    .dataframe thead th {\n",
              "        text-align: right;\n",
              "    }\n",
              "</style>\n",
              "<table border=\"1\" class=\"dataframe\">\n",
              "  <thead>\n",
              "    <tr style=\"text-align: right;\">\n",
              "      <th></th>\n",
              "      <th>show_id</th>\n",
              "      <th>type</th>\n",
              "      <th>title</th>\n",
              "      <th>director</th>\n",
              "      <th>cast</th>\n",
              "      <th>country</th>\n",
              "      <th>date_added</th>\n",
              "      <th>release_year</th>\n",
              "      <th>rating</th>\n",
              "      <th>duration</th>\n",
              "      <th>listed_in</th>\n",
              "      <th>description</th>\n",
              "    </tr>\n",
              "  </thead>\n",
              "  <tbody>\n",
              "    <tr>\n",
              "      <th>1</th>\n",
              "      <td>s2</td>\n",
              "      <td>TV Show</td>\n",
              "      <td>Blood &amp; Water</td>\n",
              "      <td>NaN</td>\n",
              "      <td>Ama Qamata, Khosi Ngema, Gail Mabalane, Thaban...</td>\n",
              "      <td>South Africa</td>\n",
              "      <td>September 24, 2021</td>\n",
              "      <td>2021</td>\n",
              "      <td>TV-MA</td>\n",
              "      <td>2 Seasons</td>\n",
              "      <td>International TV Shows, TV Dramas, TV Mysteries</td>\n",
              "      <td>After crossing paths at a party, a Cape Town t...</td>\n",
              "    </tr>\n",
              "    <tr>\n",
              "      <th>2</th>\n",
              "      <td>s3</td>\n",
              "      <td>TV Show</td>\n",
              "      <td>Ganglands</td>\n",
              "      <td>Julien Leclercq</td>\n",
              "      <td>Sami Bouajila, Tracy Gotoas, Samuel Jouy, Nabi...</td>\n",
              "      <td>NaN</td>\n",
              "      <td>September 24, 2021</td>\n",
              "      <td>2021</td>\n",
              "      <td>TV-MA</td>\n",
              "      <td>1 Season</td>\n",
              "      <td>Crime TV Shows, International TV Shows, TV Act...</td>\n",
              "      <td>To protect his family from a powerful drug lor...</td>\n",
              "    </tr>\n",
              "  </tbody>\n",
              "</table>\n",
              "</div>"
            ],
            "text/plain": [
              "  show_id     type          title         director  \\\n",
              "1      s2  TV Show  Blood & Water              NaN   \n",
              "2      s3  TV Show      Ganglands  Julien Leclercq   \n",
              "\n",
              "                                                cast       country  \\\n",
              "1  Ama Qamata, Khosi Ngema, Gail Mabalane, Thaban...  South Africa   \n",
              "2  Sami Bouajila, Tracy Gotoas, Samuel Jouy, Nabi...           NaN   \n",
              "\n",
              "           date_added  release_year rating   duration  \\\n",
              "1  September 24, 2021          2021  TV-MA  2 Seasons   \n",
              "2  September 24, 2021          2021  TV-MA   1 Season   \n",
              "\n",
              "                                           listed_in  \\\n",
              "1    International TV Shows, TV Dramas, TV Mysteries   \n",
              "2  Crime TV Shows, International TV Shows, TV Act...   \n",
              "\n",
              "                                         description  \n",
              "1  After crossing paths at a party, a Cape Town t...  \n",
              "2  To protect his family from a powerful drug lor...  "
            ]
          },
          "execution_count": 35,
          "metadata": {},
          "output_type": "execute_result"
        }
      ],
      "source": [
        "TVShows.head(2)"
      ]
    },
    {
      "cell_type": "code",
      "execution_count": null,
      "id": "73455ef5",
      "metadata": {
        "id": "73455ef5"
      },
      "outputs": [],
      "source": []
    },
    {
      "cell_type": "markdown",
      "id": "3b46e89a",
      "metadata": {
        "id": "3b46e89a"
      },
      "source": [
        "### popular director for movies"
      ]
    },
    {
      "cell_type": "code",
      "execution_count": null,
      "id": "c62c343d",
      "metadata": {
        "id": "c62c343d",
        "outputId": "e29f53e7-b8d2-44b5-a45e-689550dee8d4"
      },
      "outputs": [
        {
          "data": {
            "text/html": [
              "<div>\n",
              "<style scoped>\n",
              "    .dataframe tbody tr th:only-of-type {\n",
              "        vertical-align: middle;\n",
              "    }\n",
              "\n",
              "    .dataframe tbody tr th {\n",
              "        vertical-align: top;\n",
              "    }\n",
              "\n",
              "    .dataframe thead th {\n",
              "        text-align: right;\n",
              "    }\n",
              "</style>\n",
              "<table border=\"1\" class=\"dataframe\">\n",
              "  <thead>\n",
              "    <tr style=\"text-align: right;\">\n",
              "      <th></th>\n",
              "      <th>director</th>\n",
              "    </tr>\n",
              "  </thead>\n",
              "  <tbody>\n",
              "    <tr>\n",
              "      <th>Rajiv Chilaka</th>\n",
              "      <td>19</td>\n",
              "    </tr>\n",
              "    <tr>\n",
              "      <th>Raúl Campos, Jan Suter</th>\n",
              "      <td>18</td>\n",
              "    </tr>\n",
              "    <tr>\n",
              "      <th>Suhas Kadav</th>\n",
              "      <td>16</td>\n",
              "    </tr>\n",
              "    <tr>\n",
              "      <th>Marcus Raboy</th>\n",
              "      <td>15</td>\n",
              "    </tr>\n",
              "    <tr>\n",
              "      <th>Jay Karas</th>\n",
              "      <td>14</td>\n",
              "    </tr>\n",
              "    <tr>\n",
              "      <th>Cathy Garcia-Molina</th>\n",
              "      <td>13</td>\n",
              "    </tr>\n",
              "    <tr>\n",
              "      <th>Martin Scorsese</th>\n",
              "      <td>12</td>\n",
              "    </tr>\n",
              "    <tr>\n",
              "      <th>Youssef Chahine</th>\n",
              "      <td>12</td>\n",
              "    </tr>\n",
              "    <tr>\n",
              "      <th>Jay Chapman</th>\n",
              "      <td>12</td>\n",
              "    </tr>\n",
              "    <tr>\n",
              "      <th>Steven Spielberg</th>\n",
              "      <td>11</td>\n",
              "    </tr>\n",
              "  </tbody>\n",
              "</table>\n",
              "</div>"
            ],
            "text/plain": [
              "                        director\n",
              "Rajiv Chilaka                 19\n",
              "Raúl Campos, Jan Suter        18\n",
              "Suhas Kadav                   16\n",
              "Marcus Raboy                  15\n",
              "Jay Karas                     14\n",
              "Cathy Garcia-Molina           13\n",
              "Martin Scorsese               12\n",
              "Youssef Chahine               12\n",
              "Jay Chapman                   12\n",
              "Steven Spielberg              11"
            ]
          },
          "execution_count": 69,
          "metadata": {},
          "output_type": "execute_result"
        }
      ],
      "source": [
        "#As there are some missing values on director coumn for movies lets fill it with 'unknown'\n",
        "\n",
        "popular_director_movies = movies['director'].dropna()\n",
        "popular_director_movies.value_counts().to_frame().head(10)\n"
      ]
    },
    {
      "cell_type": "code",
      "execution_count": null,
      "id": "6cfcb4b0",
      "metadata": {
        "id": "6cfcb4b0",
        "outputId": "fe959fcd-adeb-47b8-fbc5-72391eb2057b"
      },
      "outputs": [
        {
          "data": {
            "image/png": "[encoded data removed]",
            "text/plain": [
              "<Figure size 640x480 with 1 Axes>"
            ]
          },
          "metadata": {},
          "output_type": "display_data"
        }
      ],
      "source": [
        "import matplotlib.pyplot as plt\n",
        "\n",
        "# Data for the bar graph\n",
        "df = popular_director_movies.value_counts().to_frame().head(11)\n",
        "\n",
        "# Creating the bar graph\n",
        "plt.bar(df.index, df['director'])\n",
        "\n",
        "# Adding labels and title to the graph\n",
        "plt.xlabel('Director')\n",
        "plt.ylabel('Number of Movies')\n",
        "plt.title('Popular Directors')\n",
        "\n",
        "# Rotating the x-axis labels by 90 degrees\n",
        "plt.xticks(rotation=90)\n",
        "# Displaying the graph\n",
        "plt.show()\n"
      ]
    },
    {
      "cell_type": "markdown",
      "id": "ac8681c4",
      "metadata": {
        "id": "ac8681c4"
      },
      "source": [
        "### popular countries for movies"
      ]
    },
    {
      "cell_type": "code",
      "execution_count": null,
      "id": "ebe33b3d",
      "metadata": {
        "id": "ebe33b3d"
      },
      "outputs": [],
      "source": []
    },
    {
      "cell_type": "code",
      "execution_count": null,
      "id": "b584c96e",
      "metadata": {
        "id": "b584c96e",
        "outputId": "95cc2ae6-3560-416d-f7f0-b5e72de8f585"
      },
      "outputs": [
        {
          "data": {
            "text/plain": [
              "0                                           United States\n",
              "1                                                     NaN\n",
              "2       United States, Ghana, Burkina Faso, United Kin...\n",
              "3                                           United States\n",
              "4                                 Germany, Czech Republic\n",
              "                              ...                        \n",
              "6126                         United Arab Emirates, Jordan\n",
              "6127                                        United States\n",
              "6128                                        United States\n",
              "6129                                        United States\n",
              "6130                                                India\n",
              "Name: country, Length: 6131, dtype: object"
            ]
          },
          "execution_count": 135,
          "metadata": {},
          "output_type": "execute_result"
        }
      ],
      "source": [
        "movies['country']"
      ]
    },
    {
      "cell_type": "code",
      "execution_count": null,
      "id": "e93857dc",
      "metadata": {
        "id": "e93857dc",
        "outputId": "4001559a-5317-43a5-a6b5-4a884bc9d799"
      },
      "outputs": [
        {
          "name": "stdout",
          "output_type": "stream",
          "text": [
            "<class 'pandas.core.frame.DataFrame'>\n",
            "Int64Index: 5691 entries, 0 to 6130\n",
            "Data columns (total 1 columns):\n",
            " #   Column   Non-Null Count  Dtype \n",
            "---  ------   --------------  ----- \n",
            " 0   country  5691 non-null   object\n",
            "dtypes: object(1)\n",
            "memory usage: 88.9+ KB\n"
          ]
        }
      ],
      "source": [
        "#dropping NaN values\n",
        "popular_country_movies = movies['country'].dropna()\n",
        "#popular_country_movies.value_counts()\n",
        "popular_country_movies =popular_country_movies.to_frame()\n",
        "popular_country_movies.info()"
      ]
    },
    {
      "cell_type": "code",
      "execution_count": null,
      "id": "f2869ba5",
      "metadata": {
        "id": "f2869ba5",
        "outputId": "3c589728-b449-4a42-9ad4-d2f4f8a66c49"
      },
      "outputs": [
        {
          "data": {
            "text/html": [
              "<div>\n",
              "<style scoped>\n",
              "    .dataframe tbody tr th:only-of-type {\n",
              "        vertical-align: middle;\n",
              "    }\n",
              "\n",
              "    .dataframe tbody tr th {\n",
              "        vertical-align: top;\n",
              "    }\n",
              "\n",
              "    .dataframe thead th {\n",
              "        text-align: right;\n",
              "    }\n",
              "</style>\n",
              "<table border=\"1\" class=\"dataframe\">\n",
              "  <thead>\n",
              "    <tr style=\"text-align: right;\">\n",
              "      <th></th>\n",
              "      <th>country</th>\n",
              "    </tr>\n",
              "  </thead>\n",
              "  <tbody>\n",
              "    <tr>\n",
              "      <th>0</th>\n",
              "      <td>[United States]</td>\n",
              "    </tr>\n",
              "    <tr>\n",
              "      <th>2</th>\n",
              "      <td>[United States,  Ghana,  Burkina Faso,  United...</td>\n",
              "    </tr>\n",
              "    <tr>\n",
              "      <th>3</th>\n",
              "      <td>[United States]</td>\n",
              "    </tr>\n",
              "    <tr>\n",
              "      <th>4</th>\n",
              "      <td>[Germany,  Czech Republic]</td>\n",
              "    </tr>\n",
              "    <tr>\n",
              "      <th>10</th>\n",
              "      <td>[India]</td>\n",
              "    </tr>\n",
              "    <tr>\n",
              "      <th>...</th>\n",
              "      <td>...</td>\n",
              "    </tr>\n",
              "    <tr>\n",
              "      <th>6126</th>\n",
              "      <td>[United Arab Emirates,  Jordan]</td>\n",
              "    </tr>\n",
              "    <tr>\n",
              "      <th>6127</th>\n",
              "      <td>[United States]</td>\n",
              "    </tr>\n",
              "    <tr>\n",
              "      <th>6128</th>\n",
              "      <td>[United States]</td>\n",
              "    </tr>\n",
              "    <tr>\n",
              "      <th>6129</th>\n",
              "      <td>[United States]</td>\n",
              "    </tr>\n",
              "    <tr>\n",
              "      <th>6130</th>\n",
              "      <td>[India]</td>\n",
              "    </tr>\n",
              "  </tbody>\n",
              "</table>\n",
              "<p>5691 rows × 1 columns</p>\n",
              "</div>"
            ],
            "text/plain": [
              "                                                country\n",
              "0                                       [United States]\n",
              "2     [United States,  Ghana,  Burkina Faso,  United...\n",
              "3                                       [United States]\n",
              "4                            [Germany,  Czech Republic]\n",
              "10                                              [India]\n",
              "...                                                 ...\n",
              "6126                    [United Arab Emirates,  Jordan]\n",
              "6127                                    [United States]\n",
              "6128                                    [United States]\n",
              "6129                                    [United States]\n",
              "6130                                            [India]\n",
              "\n",
              "[5691 rows x 1 columns]"
            ]
          },
          "execution_count": 137,
          "metadata": {},
          "output_type": "execute_result"
        }
      ],
      "source": [
        "#As we can see from the above series the one movie is relesed in multiple countries so lets break it down to get populat country\n",
        "\n",
        "\n",
        "\n",
        "def split_string(string):\n",
        "    \"\"\"Splits a string separated with commas or ampersands and returns a list\"\"\"\n",
        "    split_list = []\n",
        "    for item in string.split(','):\n",
        "        split_list.extend(item.split('&'))\n",
        "    return split_list\n",
        "\n",
        "\n",
        "popular_country_movies['country'] = popular_country_movies['country'].apply(split_string)\n",
        "popular_country_movies"
      ]
    },
    {
      "cell_type": "code",
      "execution_count": null,
      "id": "eb52dc2a",
      "metadata": {
        "id": "eb52dc2a"
      },
      "outputs": [],
      "source": [
        "#The explode() function in Pandas is used to transform a column with lists or arrays into separate rows\n",
        "\n",
        "popular_country_movies =popular_country_movies.explode('country')\n",
        "\n",
        "popular_country_movies.reset_index(drop=True , inplace = True )\n",
        "\n",
        "#To remove trailing spaces in country names\n",
        "popular_country_movies['country'] = popular_country_movies['country'].apply(lambda x : x.strip())\n",
        "\n"
      ]
    },
    {
      "cell_type": "code",
      "execution_count": null,
      "id": "a4b49771",
      "metadata": {
        "id": "a4b49771",
        "outputId": "a0315503-7b7b-4ed8-d117-b6ec30368e9c"
      },
      "outputs": [
        {
          "data": {
            "text/plain": [
              "country       \n",
              "United States     2752\n",
              "India              962\n",
              "United Kingdom     534\n",
              "Canada             319\n",
              "France             303\n",
              "                  ... \n",
              "Latvia               1\n",
              "Somalia              1\n",
              "Liechtenstein        1\n",
              "Cameroon             1\n",
              "Malawi               1\n",
              "Length: 118, dtype: int64"
            ]
          },
          "execution_count": 139,
          "metadata": {},
          "output_type": "execute_result"
        }
      ],
      "source": [
        "\n",
        "popular_country_movies.value_counts()"
      ]
    },
    {
      "cell_type": "code",
      "execution_count": null,
      "id": "2b1f72ef",
      "metadata": {
        "id": "2b1f72ef",
        "outputId": "d5ed95c7-0f53-421e-bc8c-c95f4648fe26"
      },
      "outputs": [
        {
          "data": {
            "text/plain": [
              "Index(['country', 0], dtype='object')"
            ]
          },
          "execution_count": 140,
          "metadata": {},
          "output_type": "execute_result"
        }
      ],
      "source": [
        "popcountry = popular_country_movies.value_counts().to_frame()\n",
        "popcountry.reset_index(inplace =True)\n",
        "\n",
        "popcountry.columns\n"
      ]
    },
    {
      "cell_type": "markdown",
      "id": "ecee7175",
      "metadata": {
        "id": "ecee7175"
      },
      "source": [
        "### Visual Analysis by Bar plot - Univariate analyis after pre-processing of the data"
      ]
    },
    {
      "cell_type": "code",
      "execution_count": null,
      "id": "8b7447e5",
      "metadata": {
        "scrolled": true,
        "id": "8b7447e5",
        "outputId": "9562664e-728e-4485-e85e-126ada20ced1"
      },
      "outputs": [
        {
          "data": {
            "image/png": "[encoded data removed]",
            "text/plain": [
              "<Figure size 640x480 with 1 Axes>"
            ]
          },
          "metadata": {},
          "output_type": "display_data"
        }
      ],
      "source": [
        "import matplotlib.pyplot as plt\n",
        "import pandas as pd\n",
        "\n",
        "\n",
        "# Counting the occurrences of each country\n",
        "counts = popular_country_movies.value_counts().to_frame().head(10)\n",
        "\n",
        "# Creating the bar graph\n",
        "plt.bar(counts.index.get_level_values(0), counts[0])\n",
        "\n",
        "# Adding labels and title to the graph\n",
        "plt.xlabel('Country')\n",
        "plt.ylabel('Number of Movies')\n",
        "plt.title('Number of Movies Produced by Popular Countries')\n",
        "\n",
        "\n",
        "# Rotating the x-axis labels by 90 degrees\n",
        "plt.xticks(rotation=90)\n",
        "\n",
        "# Displaying the graph\n",
        "plt.show()\n",
        "\n"
      ]
    },
    {
      "cell_type": "markdown",
      "id": "c22285e3",
      "metadata": {
        "id": "c22285e3"
      },
      "source": [
        "### Visual Analysis by countplot - Bivariate analysis and pre-processing of the data"
      ]
    },
    {
      "cell_type": "code",
      "execution_count": null,
      "id": "2c3d703f",
      "metadata": {
        "id": "2c3d703f",
        "outputId": "5ae1e5b4-d887-4531-98ad-0bb01f575770"
      },
      "outputs": [
        {
          "name": "stdout",
          "output_type": "stream",
          "text": [
            "<class 'pandas.core.frame.DataFrame'>\n",
            "RangeIndex: 6131 entries, 0 to 6130\n",
            "Data columns (total 2 columns):\n",
            " #   Column     Non-Null Count  Dtype \n",
            "---  ------     --------------  ----- \n",
            " 0   country    5691 non-null   object\n",
            " 1   listed_in  6131 non-null   object\n",
            "dtypes: object(2)\n",
            "memory usage: 95.9+ KB\n"
          ]
        }
      ],
      "source": [
        "movies[['country','listed_in']].info()"
      ]
    },
    {
      "cell_type": "code",
      "execution_count": null,
      "id": "f40d997b",
      "metadata": {
        "id": "f40d997b"
      },
      "outputs": [],
      "source": [
        "popular_genre_country= movies.loc[:,['country','listed_in']]"
      ]
    },
    {
      "cell_type": "code",
      "execution_count": null,
      "id": "1ff9702e",
      "metadata": {
        "id": "1ff9702e",
        "outputId": "f90f2791-d136-447b-949f-14f63e95f861"
      },
      "outputs": [
        {
          "data": {
            "text/html": [
              "<div>\n",
              "<style scoped>\n",
              "    .dataframe tbody tr th:only-of-type {\n",
              "        vertical-align: middle;\n",
              "    }\n",
              "\n",
              "    .dataframe tbody tr th {\n",
              "        vertical-align: top;\n",
              "    }\n",
              "\n",
              "    .dataframe thead th {\n",
              "        text-align: right;\n",
              "    }\n",
              "</style>\n",
              "<table border=\"1\" class=\"dataframe\">\n",
              "  <thead>\n",
              "    <tr style=\"text-align: right;\">\n",
              "      <th></th>\n",
              "      <th>country</th>\n",
              "      <th>listed_in</th>\n",
              "    </tr>\n",
              "  </thead>\n",
              "  <tbody>\n",
              "    <tr>\n",
              "      <th>0</th>\n",
              "      <td>United States</td>\n",
              "      <td>Documentaries</td>\n",
              "    </tr>\n",
              "    <tr>\n",
              "      <th>1</th>\n",
              "      <td>NaN</td>\n",
              "      <td>Children &amp; Family Movies</td>\n",
              "    </tr>\n",
              "    <tr>\n",
              "      <th>2</th>\n",
              "      <td>United States, Ghana, Burkina Faso, United Kin...</td>\n",
              "      <td>Dramas, Independent Movies, International Movies</td>\n",
              "    </tr>\n",
              "    <tr>\n",
              "      <th>3</th>\n",
              "      <td>United States</td>\n",
              "      <td>Comedies, Dramas</td>\n",
              "    </tr>\n",
              "    <tr>\n",
              "      <th>4</th>\n",
              "      <td>Germany, Czech Republic</td>\n",
              "      <td>Dramas, International Movies</td>\n",
              "    </tr>\n",
              "    <tr>\n",
              "      <th>...</th>\n",
              "      <td>...</td>\n",
              "      <td>...</td>\n",
              "    </tr>\n",
              "    <tr>\n",
              "      <th>6126</th>\n",
              "      <td>United Arab Emirates, Jordan</td>\n",
              "      <td>Dramas, International Movies, Thrillers</td>\n",
              "    </tr>\n",
              "    <tr>\n",
              "      <th>6127</th>\n",
              "      <td>United States</td>\n",
              "      <td>Cult Movies, Dramas, Thrillers</td>\n",
              "    </tr>\n",
              "    <tr>\n",
              "      <th>6128</th>\n",
              "      <td>United States</td>\n",
              "      <td>Comedies, Horror Movies</td>\n",
              "    </tr>\n",
              "    <tr>\n",
              "      <th>6129</th>\n",
              "      <td>United States</td>\n",
              "      <td>Children &amp; Family Movies, Comedies</td>\n",
              "    </tr>\n",
              "    <tr>\n",
              "      <th>6130</th>\n",
              "      <td>India</td>\n",
              "      <td>Dramas, International Movies, Music &amp; Musicals</td>\n",
              "    </tr>\n",
              "  </tbody>\n",
              "</table>\n",
              "<p>6131 rows × 2 columns</p>\n",
              "</div>"
            ],
            "text/plain": [
              "                                                country  \\\n",
              "0                                         United States   \n",
              "1                                                   NaN   \n",
              "2     United States, Ghana, Burkina Faso, United Kin...   \n",
              "3                                         United States   \n",
              "4                               Germany, Czech Republic   \n",
              "...                                                 ...   \n",
              "6126                       United Arab Emirates, Jordan   \n",
              "6127                                      United States   \n",
              "6128                                      United States   \n",
              "6129                                      United States   \n",
              "6130                                              India   \n",
              "\n",
              "                                             listed_in  \n",
              "0                                        Documentaries  \n",
              "1                             Children & Family Movies  \n",
              "2     Dramas, Independent Movies, International Movies  \n",
              "3                                     Comedies, Dramas  \n",
              "4                         Dramas, International Movies  \n",
              "...                                                ...  \n",
              "6126           Dramas, International Movies, Thrillers  \n",
              "6127                    Cult Movies, Dramas, Thrillers  \n",
              "6128                           Comedies, Horror Movies  \n",
              "6129                Children & Family Movies, Comedies  \n",
              "6130    Dramas, International Movies, Music & Musicals  \n",
              "\n",
              "[6131 rows x 2 columns]"
            ]
          },
          "execution_count": 177,
          "metadata": {},
          "output_type": "execute_result"
        }
      ],
      "source": [
        "popular_genre_country"
      ]
    },
    {
      "cell_type": "markdown",
      "id": "8a667f46",
      "metadata": {
        "id": "8a667f46"
      },
      "source": [
        "In order to make thid data useful , we can explode contry and listed_in colums to seperate rows so each row have can have unique combination of coumns and one value per coulmn.\n"
      ]
    },
    {
      "cell_type": "code",
      "execution_count": null,
      "id": "c6f897b0",
      "metadata": {
        "id": "c6f897b0"
      },
      "outputs": [],
      "source": [
        "#fill NaN values with 'unkown'\n",
        "\n",
        "popular_genre_country.fillna({ 'country':'unknown' ,'listed_in' :'unknown' },inplace =True)\n",
        "\n",
        "\n",
        "popular_genre_country['country'] = popular_genre_country['country'].apply(split_string)\n",
        "popular_genre_country['genre'] = popular_genre_country['listed_in'].apply(split_string)\n",
        "\n"
      ]
    },
    {
      "cell_type": "code",
      "execution_count": null,
      "id": "1b9c6609",
      "metadata": {
        "id": "1b9c6609"
      },
      "outputs": [],
      "source": [
        "popular_genre_country = popular_genre_country.drop(columns='listed_in')"
      ]
    },
    {
      "cell_type": "code",
      "execution_count": null,
      "id": "39643696",
      "metadata": {
        "id": "39643696",
        "outputId": "98ac563e-9699-41a3-d323-257e5cc86b82"
      },
      "outputs": [
        {
          "data": {
            "text/html": [
              "<div>\n",
              "<style scoped>\n",
              "    .dataframe tbody tr th:only-of-type {\n",
              "        vertical-align: middle;\n",
              "    }\n",
              "\n",
              "    .dataframe tbody tr th {\n",
              "        vertical-align: top;\n",
              "    }\n",
              "\n",
              "    .dataframe thead th {\n",
              "        text-align: right;\n",
              "    }\n",
              "</style>\n",
              "<table border=\"1\" class=\"dataframe\">\n",
              "  <thead>\n",
              "    <tr style=\"text-align: right;\">\n",
              "      <th></th>\n",
              "      <th>country</th>\n",
              "      <th>genre</th>\n",
              "    </tr>\n",
              "  </thead>\n",
              "  <tbody>\n",
              "    <tr>\n",
              "      <th>0</th>\n",
              "      <td>[United States]</td>\n",
              "      <td>[Documentaries]</td>\n",
              "    </tr>\n",
              "    <tr>\n",
              "      <th>1</th>\n",
              "      <td>[unknown]</td>\n",
              "      <td>[Children ,  Family Movies]</td>\n",
              "    </tr>\n",
              "    <tr>\n",
              "      <th>2</th>\n",
              "      <td>[United States,  Ghana,  Burkina Faso,  United...</td>\n",
              "      <td>[Dramas,  Independent Movies,  International M...</td>\n",
              "    </tr>\n",
              "    <tr>\n",
              "      <th>3</th>\n",
              "      <td>[United States]</td>\n",
              "      <td>[Comedies,  Dramas]</td>\n",
              "    </tr>\n",
              "    <tr>\n",
              "      <th>4</th>\n",
              "      <td>[Germany,  Czech Republic]</td>\n",
              "      <td>[Dramas,  International Movies]</td>\n",
              "    </tr>\n",
              "    <tr>\n",
              "      <th>...</th>\n",
              "      <td>...</td>\n",
              "      <td>...</td>\n",
              "    </tr>\n",
              "    <tr>\n",
              "      <th>6126</th>\n",
              "      <td>[United Arab Emirates,  Jordan]</td>\n",
              "      <td>[Dramas,  International Movies,  Thrillers]</td>\n",
              "    </tr>\n",
              "    <tr>\n",
              "      <th>6127</th>\n",
              "      <td>[United States]</td>\n",
              "      <td>[Cult Movies,  Dramas,  Thrillers]</td>\n",
              "    </tr>\n",
              "    <tr>\n",
              "      <th>6128</th>\n",
              "      <td>[United States]</td>\n",
              "      <td>[Comedies,  Horror Movies]</td>\n",
              "    </tr>\n",
              "    <tr>\n",
              "      <th>6129</th>\n",
              "      <td>[United States]</td>\n",
              "      <td>[Children ,  Family Movies,  Comedies]</td>\n",
              "    </tr>\n",
              "    <tr>\n",
              "      <th>6130</th>\n",
              "      <td>[India]</td>\n",
              "      <td>[Dramas,  International Movies,  Music ,  Musi...</td>\n",
              "    </tr>\n",
              "  </tbody>\n",
              "</table>\n",
              "<p>6131 rows × 2 columns</p>\n",
              "</div>"
            ],
            "text/plain": [
              "                                                country  \\\n",
              "0                                       [United States]   \n",
              "1                                             [unknown]   \n",
              "2     [United States,  Ghana,  Burkina Faso,  United...   \n",
              "3                                       [United States]   \n",
              "4                            [Germany,  Czech Republic]   \n",
              "...                                                 ...   \n",
              "6126                    [United Arab Emirates,  Jordan]   \n",
              "6127                                    [United States]   \n",
              "6128                                    [United States]   \n",
              "6129                                    [United States]   \n",
              "6130                                            [India]   \n",
              "\n",
              "                                                  genre  \n",
              "0                                       [Documentaries]  \n",
              "1                           [Children ,  Family Movies]  \n",
              "2     [Dramas,  Independent Movies,  International M...  \n",
              "3                                   [Comedies,  Dramas]  \n",
              "4                       [Dramas,  International Movies]  \n",
              "...                                                 ...  \n",
              "6126        [Dramas,  International Movies,  Thrillers]  \n",
              "6127                 [Cult Movies,  Dramas,  Thrillers]  \n",
              "6128                         [Comedies,  Horror Movies]  \n",
              "6129             [Children ,  Family Movies,  Comedies]  \n",
              "6130  [Dramas,  International Movies,  Music ,  Musi...  \n",
              "\n",
              "[6131 rows x 2 columns]"
            ]
          },
          "execution_count": 180,
          "metadata": {},
          "output_type": "execute_result"
        }
      ],
      "source": [
        "popular_genre_country"
      ]
    },
    {
      "cell_type": "code",
      "execution_count": null,
      "id": "ffe868f7",
      "metadata": {
        "id": "ffe868f7"
      },
      "outputs": [],
      "source": []
    },
    {
      "cell_type": "code",
      "execution_count": null,
      "id": "425fe8ce",
      "metadata": {
        "id": "425fe8ce"
      },
      "outputs": [],
      "source": [
        "#The explode() function in Pandas is used to transform a column with lists or arrays into separate rows\n",
        "\n",
        "popular_genre_country =popular_genre_country.explode('country')\n",
        "\n",
        "popular_genre_country.reset_index(drop=True , inplace = True )\n",
        "\n",
        "#To remove trailing spaces in country names\n",
        "popular_genre_country['country'] = popular_genre_country['country'].apply(lambda x : x.strip())\n",
        "\n",
        "\n"
      ]
    },
    {
      "cell_type": "code",
      "execution_count": null,
      "id": "41fca85f",
      "metadata": {
        "id": "41fca85f",
        "outputId": "92fd867c-e2df-48a9-dee9-6a2aaf3b9fb8"
      },
      "outputs": [
        {
          "data": {
            "text/html": [
              "<div>\n",
              "<style scoped>\n",
              "    .dataframe tbody tr th:only-of-type {\n",
              "        vertical-align: middle;\n",
              "    }\n",
              "\n",
              "    .dataframe tbody tr th {\n",
              "        vertical-align: top;\n",
              "    }\n",
              "\n",
              "    .dataframe thead th {\n",
              "        text-align: right;\n",
              "    }\n",
              "</style>\n",
              "<table border=\"1\" class=\"dataframe\">\n",
              "  <thead>\n",
              "    <tr style=\"text-align: right;\">\n",
              "      <th></th>\n",
              "      <th>country</th>\n",
              "      <th>genre</th>\n",
              "    </tr>\n",
              "  </thead>\n",
              "  <tbody>\n",
              "    <tr>\n",
              "      <th>0</th>\n",
              "      <td>United States</td>\n",
              "      <td>[Documentaries]</td>\n",
              "    </tr>\n",
              "    <tr>\n",
              "      <th>1</th>\n",
              "      <td>unknown</td>\n",
              "      <td>[Children ,  Family Movies]</td>\n",
              "    </tr>\n",
              "    <tr>\n",
              "      <th>2</th>\n",
              "      <td>United States</td>\n",
              "      <td>[Dramas,  Independent Movies,  International M...</td>\n",
              "    </tr>\n",
              "    <tr>\n",
              "      <th>3</th>\n",
              "      <td>Ghana</td>\n",
              "      <td>[Dramas,  Independent Movies,  International M...</td>\n",
              "    </tr>\n",
              "    <tr>\n",
              "      <th>4</th>\n",
              "      <td>Burkina Faso</td>\n",
              "      <td>[Dramas,  Independent Movies,  International M...</td>\n",
              "    </tr>\n",
              "    <tr>\n",
              "      <th>...</th>\n",
              "      <td>...</td>\n",
              "      <td>...</td>\n",
              "    </tr>\n",
              "    <tr>\n",
              "      <th>7814</th>\n",
              "      <td>Jordan</td>\n",
              "      <td>[Dramas,  International Movies,  Thrillers]</td>\n",
              "    </tr>\n",
              "    <tr>\n",
              "      <th>7815</th>\n",
              "      <td>United States</td>\n",
              "      <td>[Cult Movies,  Dramas,  Thrillers]</td>\n",
              "    </tr>\n",
              "    <tr>\n",
              "      <th>7816</th>\n",
              "      <td>United States</td>\n",
              "      <td>[Comedies,  Horror Movies]</td>\n",
              "    </tr>\n",
              "    <tr>\n",
              "      <th>7817</th>\n",
              "      <td>United States</td>\n",
              "      <td>[Children ,  Family Movies,  Comedies]</td>\n",
              "    </tr>\n",
              "    <tr>\n",
              "      <th>7818</th>\n",
              "      <td>India</td>\n",
              "      <td>[Dramas,  International Movies,  Music ,  Musi...</td>\n",
              "    </tr>\n",
              "  </tbody>\n",
              "</table>\n",
              "<p>7819 rows × 2 columns</p>\n",
              "</div>"
            ],
            "text/plain": [
              "            country                                              genre\n",
              "0     United States                                    [Documentaries]\n",
              "1           unknown                        [Children ,  Family Movies]\n",
              "2     United States  [Dramas,  Independent Movies,  International M...\n",
              "3             Ghana  [Dramas,  Independent Movies,  International M...\n",
              "4      Burkina Faso  [Dramas,  Independent Movies,  International M...\n",
              "...             ...                                                ...\n",
              "7814         Jordan        [Dramas,  International Movies,  Thrillers]\n",
              "7815  United States                 [Cult Movies,  Dramas,  Thrillers]\n",
              "7816  United States                         [Comedies,  Horror Movies]\n",
              "7817  United States             [Children ,  Family Movies,  Comedies]\n",
              "7818          India  [Dramas,  International Movies,  Music ,  Musi...\n",
              "\n",
              "[7819 rows x 2 columns]"
            ]
          },
          "execution_count": 182,
          "metadata": {},
          "output_type": "execute_result"
        }
      ],
      "source": [
        "popular_genre_country"
      ]
    },
    {
      "cell_type": "code",
      "execution_count": null,
      "id": "ef53fecc",
      "metadata": {
        "id": "ef53fecc"
      },
      "outputs": [],
      "source": [
        "popular_genre_country= popular_genre_country.explode('genre')\n",
        "\n"
      ]
    },
    {
      "cell_type": "code",
      "execution_count": null,
      "id": "723be8ab",
      "metadata": {
        "id": "723be8ab",
        "outputId": "064043fd-7721-4fa3-9bf8-121530056a94"
      },
      "outputs": [
        {
          "data": {
            "text/html": [
              "<div>\n",
              "<style scoped>\n",
              "    .dataframe tbody tr th:only-of-type {\n",
              "        vertical-align: middle;\n",
              "    }\n",
              "\n",
              "    .dataframe tbody tr th {\n",
              "        vertical-align: top;\n",
              "    }\n",
              "\n",
              "    .dataframe thead th {\n",
              "        text-align: right;\n",
              "    }\n",
              "</style>\n",
              "<table border=\"1\" class=\"dataframe\">\n",
              "  <thead>\n",
              "    <tr style=\"text-align: right;\">\n",
              "      <th></th>\n",
              "      <th>country</th>\n",
              "      <th>genre</th>\n",
              "    </tr>\n",
              "  </thead>\n",
              "  <tbody>\n",
              "    <tr>\n",
              "      <th>0</th>\n",
              "      <td>United States</td>\n",
              "      <td>Documentaries</td>\n",
              "    </tr>\n",
              "    <tr>\n",
              "      <th>1</th>\n",
              "      <td>unknown</td>\n",
              "      <td>Children</td>\n",
              "    </tr>\n",
              "    <tr>\n",
              "      <th>2</th>\n",
              "      <td>unknown</td>\n",
              "      <td>Family Movies</td>\n",
              "    </tr>\n",
              "    <tr>\n",
              "      <th>3</th>\n",
              "      <td>United States</td>\n",
              "      <td>Dramas</td>\n",
              "    </tr>\n",
              "    <tr>\n",
              "      <th>4</th>\n",
              "      <td>United States</td>\n",
              "      <td>Independent Movies</td>\n",
              "    </tr>\n",
              "    <tr>\n",
              "      <th>...</th>\n",
              "      <td>...</td>\n",
              "      <td>...</td>\n",
              "    </tr>\n",
              "    <tr>\n",
              "      <th>19803</th>\n",
              "      <td>United States</td>\n",
              "      <td>Comedies</td>\n",
              "    </tr>\n",
              "    <tr>\n",
              "      <th>19804</th>\n",
              "      <td>India</td>\n",
              "      <td>Dramas</td>\n",
              "    </tr>\n",
              "    <tr>\n",
              "      <th>19805</th>\n",
              "      <td>India</td>\n",
              "      <td>International Movies</td>\n",
              "    </tr>\n",
              "    <tr>\n",
              "      <th>19806</th>\n",
              "      <td>India</td>\n",
              "      <td>Music</td>\n",
              "    </tr>\n",
              "    <tr>\n",
              "      <th>19807</th>\n",
              "      <td>India</td>\n",
              "      <td>Musicals</td>\n",
              "    </tr>\n",
              "  </tbody>\n",
              "</table>\n",
              "<p>19808 rows × 2 columns</p>\n",
              "</div>"
            ],
            "text/plain": [
              "             country                 genre\n",
              "0      United States         Documentaries\n",
              "1            unknown              Children\n",
              "2            unknown         Family Movies\n",
              "3      United States                Dramas\n",
              "4      United States    Independent Movies\n",
              "...              ...                   ...\n",
              "19803  United States              Comedies\n",
              "19804          India                Dramas\n",
              "19805          India  International Movies\n",
              "19806          India                 Music\n",
              "19807          India              Musicals\n",
              "\n",
              "[19808 rows x 2 columns]"
            ]
          },
          "execution_count": 212,
          "metadata": {},
          "output_type": "execute_result"
        }
      ],
      "source": [
        "popular_genre_country.reset_index(drop=True , inplace = True )\n",
        "\n",
        "popular_genre_country['genre'] = popular_genre_country['genre'].apply(lambda x : x.strip())\n",
        "\n",
        "\n",
        "popular_genre_country"
      ]
    },
    {
      "cell_type": "code",
      "execution_count": null,
      "id": "a148632e",
      "metadata": {
        "id": "a148632e"
      },
      "outputs": [],
      "source": []
    },
    {
      "cell_type": "code",
      "execution_count": null,
      "id": "9a30b2ab",
      "metadata": {
        "id": "9a30b2ab"
      },
      "outputs": [],
      "source": []
    },
    {
      "cell_type": "code",
      "execution_count": null,
      "id": "1520a00c",
      "metadata": {
        "id": "1520a00c"
      },
      "outputs": [],
      "source": []
    },
    {
      "cell_type": "code",
      "execution_count": null,
      "id": "eb70804c",
      "metadata": {
        "id": "eb70804c"
      },
      "outputs": [],
      "source": [
        "\n"
      ]
    },
    {
      "cell_type": "markdown",
      "id": "b0e842c3",
      "metadata": {
        "id": "b0e842c3"
      },
      "source": [
        "Let's focus on top 10 genres in top 3 countries"
      ]
    },
    {
      "cell_type": "code",
      "execution_count": null,
      "id": "113beb09",
      "metadata": {
        "id": "113beb09"
      },
      "outputs": [],
      "source": [
        "#get the top 10 genres\n",
        "top_genre_list =popular_genre_country['genre'].value_counts().head(10).index.tolist()\n",
        "\n",
        "\n",
        "#get the top 3 country\n",
        "top_country_list =popular_genre_country['country'].value_counts().head(3).index.tolist()\n",
        "\n"
      ]
    },
    {
      "cell_type": "code",
      "execution_count": null,
      "id": "a7b9fda1",
      "metadata": {
        "id": "a7b9fda1"
      },
      "outputs": [],
      "source": [
        "popular_genre_country_plot= popular_genre_country.loc[(popular_genre_country['country'].isin(top_country_list)) & (popular_genre_country['genre'].isin(top_genre_list))]"
      ]
    },
    {
      "cell_type": "code",
      "execution_count": null,
      "id": "180ad1b0",
      "metadata": {
        "id": "180ad1b0",
        "outputId": "178f9080-2093-4f04-efce-3714505bf0ef"
      },
      "outputs": [
        {
          "data": {
            "text/html": [
              "<div>\n",
              "<style scoped>\n",
              "    .dataframe tbody tr th:only-of-type {\n",
              "        vertical-align: middle;\n",
              "    }\n",
              "\n",
              "    .dataframe tbody tr th {\n",
              "        vertical-align: top;\n",
              "    }\n",
              "\n",
              "    .dataframe thead th {\n",
              "        text-align: right;\n",
              "    }\n",
              "</style>\n",
              "<table border=\"1\" class=\"dataframe\">\n",
              "  <thead>\n",
              "    <tr style=\"text-align: right;\">\n",
              "      <th></th>\n",
              "      <th>country</th>\n",
              "      <th>genre</th>\n",
              "    </tr>\n",
              "  </thead>\n",
              "  <tbody>\n",
              "    <tr>\n",
              "      <th>0</th>\n",
              "      <td>United States</td>\n",
              "      <td>Documentaries</td>\n",
              "    </tr>\n",
              "    <tr>\n",
              "      <th>3</th>\n",
              "      <td>United States</td>\n",
              "      <td>Dramas</td>\n",
              "    </tr>\n",
              "    <tr>\n",
              "      <th>4</th>\n",
              "      <td>United States</td>\n",
              "      <td>Independent Movies</td>\n",
              "    </tr>\n",
              "    <tr>\n",
              "      <th>5</th>\n",
              "      <td>United States</td>\n",
              "      <td>International Movies</td>\n",
              "    </tr>\n",
              "    <tr>\n",
              "      <th>12</th>\n",
              "      <td>United Kingdom</td>\n",
              "      <td>Dramas</td>\n",
              "    </tr>\n",
              "    <tr>\n",
              "      <th>...</th>\n",
              "      <td>...</td>\n",
              "      <td>...</td>\n",
              "    </tr>\n",
              "    <tr>\n",
              "      <th>19801</th>\n",
              "      <td>United States</td>\n",
              "      <td>Children</td>\n",
              "    </tr>\n",
              "    <tr>\n",
              "      <th>19802</th>\n",
              "      <td>United States</td>\n",
              "      <td>Family Movies</td>\n",
              "    </tr>\n",
              "    <tr>\n",
              "      <th>19803</th>\n",
              "      <td>United States</td>\n",
              "      <td>Comedies</td>\n",
              "    </tr>\n",
              "    <tr>\n",
              "      <th>19804</th>\n",
              "      <td>India</td>\n",
              "      <td>Dramas</td>\n",
              "    </tr>\n",
              "    <tr>\n",
              "      <th>19805</th>\n",
              "      <td>India</td>\n",
              "      <td>International Movies</td>\n",
              "    </tr>\n",
              "  </tbody>\n",
              "</table>\n",
              "<p>7905 rows × 2 columns</p>\n",
              "</div>"
            ],
            "text/plain": [
              "              country                 genre\n",
              "0       United States         Documentaries\n",
              "3       United States                Dramas\n",
              "4       United States    Independent Movies\n",
              "5       United States  International Movies\n",
              "12     United Kingdom                Dramas\n",
              "...               ...                   ...\n",
              "19801   United States              Children\n",
              "19802   United States         Family Movies\n",
              "19803   United States              Comedies\n",
              "19804           India                Dramas\n",
              "19805           India  International Movies\n",
              "\n",
              "[7905 rows x 2 columns]"
            ]
          },
          "execution_count": 228,
          "metadata": {},
          "output_type": "execute_result"
        }
      ],
      "source": [
        "popular_genre_country_plot"
      ]
    },
    {
      "cell_type": "code",
      "execution_count": null,
      "id": "4d781a9d",
      "metadata": {
        "id": "4d781a9d",
        "outputId": "40684059-1197-43ac-d7b4-31fe362e8e3a"
      },
      "outputs": [
        {
          "data": {
            "image/png": "[encoded data removed]",
            "text/plain": [
              "<Figure size 640x480 with 1 Axes>"
            ]
          },
          "metadata": {},
          "output_type": "display_data"
        }
      ],
      "source": [
        "#seaborn.countplot() is a function in the Seaborn data visualization library that creates a bar plot\n",
        "#to show the counts of observations in each categorical bin using bars.\n",
        "\n",
        "import seaborn as sns\n",
        "\n",
        "\n",
        "# Creating the stacked bar graph\n",
        "sns.countplot(x='country', hue='genre', data=popular_genre_country_plot)\n",
        "\n",
        "# Adding a title and labels to the graph\n",
        "plt.xlabel('Country')\n",
        "plt.ylabel('Count of Movies')\n",
        "plt.title('Bar Graph of Movie Genres by Country')\n",
        "\n",
        "# Displaying the graph\n",
        "plt.show()\n",
        "\n"
      ]
    },
    {
      "cell_type": "markdown",
      "id": "6d3ad15c",
      "metadata": {
        "id": "6d3ad15c"
      },
      "source": [
        "From the above plot we could see relations between diffrent popular genres among top 3 countries"
      ]
    },
    {
      "cell_type": "markdown",
      "id": "8256debc",
      "metadata": {
        "id": "8256debc"
      },
      "source": [
        "### visualization of categorical variable using box plot"
      ]
    },
    {
      "cell_type": "code",
      "execution_count": null,
      "id": "5d405a7d",
      "metadata": {
        "id": "5d405a7d",
        "outputId": "c10c5f1d-4b23-410d-c9fa-b19b55191021"
      },
      "outputs": [
        {
          "name": "stdout",
          "output_type": "stream",
          "text": [
            "<class 'pandas.core.frame.DataFrame'>\n",
            "RangeIndex: 6131 entries, 0 to 6130\n",
            "Data columns (total 12 columns):\n",
            " #   Column        Non-Null Count  Dtype \n",
            "---  ------        --------------  ----- \n",
            " 0   show_id       6131 non-null   object\n",
            " 1   type          6131 non-null   object\n",
            " 2   title         6131 non-null   object\n",
            " 3   director      5943 non-null   object\n",
            " 4   cast          5656 non-null   object\n",
            " 5   country       5691 non-null   object\n",
            " 6   date_added    6131 non-null   object\n",
            " 7   release_year  6131 non-null   int64 \n",
            " 8   rating        6129 non-null   object\n",
            " 9   duration      6128 non-null   object\n",
            " 10  listed_in     6131 non-null   object\n",
            " 11  description   6131 non-null   object\n",
            "dtypes: int64(1), object(11)\n",
            "memory usage: 574.9+ KB\n"
          ]
        }
      ],
      "source": [
        "movies.info()"
      ]
    },
    {
      "cell_type": "markdown",
      "id": "6149d60c",
      "metadata": {
        "id": "6149d60c"
      },
      "source": [
        "From movies datframe , we can see there is no missing values for relese year for"
      ]
    },
    {
      "cell_type": "code",
      "execution_count": null,
      "id": "00610759",
      "metadata": {
        "id": "00610759",
        "outputId": "b56783c6-3af0-48bb-df64-acbcc01db9b6"
      },
      "outputs": [
        {
          "name": "stdout",
          "output_type": "stream",
          "text": [
            "<class 'pandas.core.frame.DataFrame'>\n",
            "RangeIndex: 2676 entries, 0 to 2675\n",
            "Data columns (total 12 columns):\n",
            " #   Column        Non-Null Count  Dtype \n",
            "---  ------        --------------  ----- \n",
            " 0   show_id       2676 non-null   object\n",
            " 1   type          2676 non-null   object\n",
            " 2   title         2676 non-null   object\n",
            " 3   director      230 non-null    object\n",
            " 4   cast          2326 non-null   object\n",
            " 5   country       2285 non-null   object\n",
            " 6   date_added    2666 non-null   object\n",
            " 7   release_year  2676 non-null   int64 \n",
            " 8   rating        2674 non-null   object\n",
            " 9   duration      2676 non-null   object\n",
            " 10  listed_in     2676 non-null   object\n",
            " 11  description   2676 non-null   object\n",
            "dtypes: int64(1), object(11)\n",
            "memory usage: 251.0+ KB\n"
          ]
        }
      ],
      "source": [
        "TVShows.info()"
      ]
    },
    {
      "cell_type": "markdown",
      "id": "9773555c",
      "metadata": {
        "id": "9773555c"
      },
      "source": [
        "From TVShows datframe , we can see there is no missing values for relese year for"
      ]
    },
    {
      "cell_type": "code",
      "execution_count": null,
      "id": "4a9511b6",
      "metadata": {
        "id": "4a9511b6",
        "outputId": "a38891c3-9b77-4b56-984c-57c2022e01f7"
      },
      "outputs": [
        {
          "data": {
            "image/png": "[encoded data removed]",
            "text/plain": [
              "<Figure size 640x480 with 1 Axes>"
            ]
          },
          "metadata": {},
          "output_type": "display_data"
        }
      ],
      "source": [
        "import pandas as pd\n",
        "import matplotlib.pyplot as plt\n",
        "\n",
        "# create separate box plots for movies and TV shows\n",
        "plt.boxplot([movies['release_year'], TVShows['release_year']], labels=['Movies', 'TV Shows'],vert=False)\n",
        "\n",
        "# add title and labels\n",
        "plt.title('Movies VS Relese year')\n",
        "plt.xlabel('Release Year')\n",
        "plt.ylabel('Type')\n",
        "\n",
        "plt.grid(True, axis='x')\n",
        "\n",
        "# show the plot\n",
        "plt.show()"
      ]
    },
    {
      "cell_type": "markdown",
      "id": "7d550e1c",
      "metadata": {
        "id": "7d550e1c"
      },
      "source": [
        "From the above graph we could see TV shows are more popluar than movies in recent years as the median of the TV shows is hogher that movies which means there are more TVshows than movies in recent years\n",
        "\n",
        "Most movies lies between the range 2000 to 2021 and other are considers as outliers as represent in above plot\n",
        "\n",
        "Similarly most TV showslies between 2010 to 2021 and other are considers as outliers as represent in above plot\n"
      ]
    },
    {
      "cell_type": "markdown",
      "id": "051c9d8e",
      "metadata": {
        "id": "051c9d8e"
      },
      "source": [
        "### PairPlots"
      ]
    },
    {
      "cell_type": "code",
      "execution_count": null,
      "id": "00c74858",
      "metadata": {
        "id": "00c74858",
        "outputId": "3b911ea7-e599-47cf-bcf5-ca67526ca070"
      },
      "outputs": [
        {
          "data": {
            "image/png": "[encoded data removed]",
            "text/plain": [
              "<Figure size 250x250 with 2 Axes>"
            ]
          },
          "metadata": {},
          "output_type": "display_data"
        }
      ],
      "source": [
        "# create pairplot\n",
        "sns.pairplot(data=data)\n",
        "\n",
        "# show the plot\n",
        "plt.show()"
      ]
    },
    {
      "cell_type": "markdown",
      "id": "6f342bfc",
      "metadata": {
        "id": "6f342bfc"
      },
      "source": [
        "A pair plot is typically used to visualize the pairwise relationships between multiple variables in a dataset. However, since most of the variables in this dataset are categorical, it may not be very informative to create a pair plot.\n",
        "\n",
        "However, we can still create a pair plot using the numerical variable release_year as a continuous variable."
      ]
    },
    {
      "cell_type": "code",
      "execution_count": null,
      "id": "dbb669d8",
      "metadata": {
        "id": "dbb669d8"
      },
      "outputs": [],
      "source": []
    },
    {
      "cell_type": "markdown",
      "id": "56b84c35",
      "metadata": {
        "id": "56b84c35"
      },
      "source": [
        "## Business Insights and Recommendations"
      ]
    },
    {
      "cell_type": "code",
      "execution_count": null,
      "id": "b192a61f",
      "metadata": {
        "id": "b192a61f"
      },
      "outputs": [],
      "source": [
        "From this analysis we can observe ,\n",
        "-> Dramas Movies do well in top three counties.\n",
        "-> India is more intesed in International Movies than Dramas\n",
        "-> Netflix should continue to put more efforts on TVshows as it's popularity\n",
        "is rising"
      ]
    },
    {
      "cell_type": "code",
      "execution_count": null,
      "id": "9496869b",
      "metadata": {
        "id": "9496869b"
      },
      "outputs": [],
      "source": []
    },
    {
      "cell_type": "code",
      "execution_count": null,
      "id": "d7c05bcd",
      "metadata": {
        "id": "d7c05bcd"
      },
      "outputs": [],
      "source": []
    },
    {
      "cell_type": "code",
      "execution_count": null,
      "id": "517688d0",
      "metadata": {
        "id": "517688d0"
      },
      "outputs": [],
      "source": []
    },
    {
      "cell_type": "code",
      "source": [],
      "metadata": {
        "id": "RDxuvwWpkaJa"
      },
      "id": "RDxuvwWpkaJa",
      "execution_count": null,
      "outputs": []
    }
  ],
  "metadata": {
    "kernelspec": {
      "display_name": "Python 3 (ipykernel)",
      "language": "python",
      "name": "python3"
    },
    "language_info": {
      "codemirror_mode": {
        "name": "ipython",
        "version": 3
      },
      "file_extension": ".py",
      "mimetype": "text/x-python",
      "name": "python",
      "nbconvert_exporter": "python",
      "pygments_lexer": "ipython3",
      "version": "3.9.13"
    },
    "colab": {
      "provenance": [],
      "include_colab_link": true
    }
  },
  "nbformat": 4,
  "nbformat_minor": 5
}